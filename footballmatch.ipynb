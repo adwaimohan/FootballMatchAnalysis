{
 "cells": [
  {
   "cell_type": "markdown",
   "metadata": {},
   "source": [
    "# Importing Libraries\n",
    "Importing all the necessary modules required for making the machine learning model"
   ]
  },
  {
   "cell_type": "code",
   "execution_count": 165,
   "metadata": {},
   "outputs": [],
   "source": [
    "\n",
    "import pandas as pd \n",
    "import numpy as np \n",
    "import seaborn as sns \n",
    "import matplotlib.pyplot as plt\n",
    "from sklearn.preprocessing import StandardScaler\n",
    "from sklearn.preprocessing import OneHotEncoder\n",
    "from sklearn.preprocessing import MinMaxScaler\n",
    "from sklearn.feature_selection import VarianceThreshold\n",
    "from sklearn.model_selection import train_test_split\n"
   ]
  },
  {
   "cell_type": "markdown",
   "metadata": {},
   "source": [
    "# Data Preprocessing and EDA\n",
    "Performing the necessary preprocessing of the data and analysing it in order to get helpful observations regarding the dataset."
   ]
  },
  {
   "cell_type": "code",
   "execution_count": 111,
   "metadata": {},
   "outputs": [
    {
     "data": {
      "text/plain": [
       "Index(['id_odsp', 'id_event', 'sort_order', 'time', 'text', 'event_type',\n",
       "       'event_type2', 'side', 'event_team', 'opponent', 'player', 'player2',\n",
       "       'player_in', 'player_out', 'shot_place', 'shot_outcome', 'is_goal',\n",
       "       'location', 'bodypart', 'assist_method', 'situation', 'fast_break'],\n",
       "      dtype='object')"
      ]
     },
     "execution_count": 111,
     "metadata": {},
     "output_type": "execute_result"
    }
   ],
   "source": [
    "df=pd.read_csv(\"events.csv\")\n",
    "df.columns\n"
   ]
  },
  {
   "cell_type": "code",
   "execution_count": 112,
   "metadata": {},
   "outputs": [
    {
     "data": {
      "text/plain": [
       "(941009, 22)"
      ]
     },
     "execution_count": 112,
     "metadata": {},
     "output_type": "execute_result"
    }
   ],
   "source": [
    "df.shape"
   ]
  },
  {
   "cell_type": "code",
   "execution_count": 113,
   "metadata": {},
   "outputs": [
    {
     "name": "stdout",
     "output_type": "stream",
     "text": [
      "<class 'pandas.core.frame.DataFrame'>\n",
      "RangeIndex: 941009 entries, 0 to 941008\n",
      "Data columns (total 22 columns):\n",
      " #   Column         Non-Null Count   Dtype  \n",
      "---  ------         --------------   -----  \n",
      " 0   id_odsp        941009 non-null  object \n",
      " 1   id_event       941009 non-null  object \n",
      " 2   sort_order     941009 non-null  int64  \n",
      " 3   time           941009 non-null  int64  \n",
      " 4   text           941009 non-null  object \n",
      " 5   event_type     941009 non-null  int64  \n",
      " 6   event_type2    214293 non-null  float64\n",
      " 7   side           941009 non-null  int64  \n",
      " 8   event_team     941009 non-null  object \n",
      " 9   opponent       941009 non-null  object \n",
      " 10  player         880009 non-null  object \n",
      " 11  player2        291310 non-null  object \n",
      " 12  player_in      51715 non-null   object \n",
      " 13  player_out     51738 non-null   object \n",
      " 14  shot_place     227459 non-null  float64\n",
      " 15  shot_outcome   228498 non-null  float64\n",
      " 16  is_goal        941009 non-null  int64  \n",
      " 17  location       467067 non-null  float64\n",
      " 18  bodypart       229185 non-null  float64\n",
      " 19  assist_method  941009 non-null  int64  \n",
      " 20  situation      229137 non-null  float64\n",
      " 21  fast_break     941009 non-null  int64  \n",
      "dtypes: float64(6), int64(7), object(9)\n",
      "memory usage: 157.9+ MB\n"
     ]
    }
   ],
   "source": [
    "df.info()"
   ]
  },
  {
   "cell_type": "markdown",
   "metadata": {},
   "source": [
    "## Dropping unwanted columns"
   ]
  },
  {
   "cell_type": "code",
   "execution_count": 114,
   "metadata": {},
   "outputs": [],
   "source": [
    "df=df.drop(['id_event','sort_order','text','fast_break','player','player2','player_in','player_out','bodypart','assist_method','situation','location'],axis=1)"
   ]
  },
  {
   "cell_type": "markdown",
   "metadata": {},
   "source": [
    "## Dealing with null values "
   ]
  },
  {
   "cell_type": "code",
   "execution_count": 115,
   "metadata": {},
   "outputs": [
    {
     "data": {
      "text/html": [
       "<div>\n",
       "<style scoped>\n",
       "    .dataframe tbody tr th:only-of-type {\n",
       "        vertical-align: middle;\n",
       "    }\n",
       "\n",
       "    .dataframe tbody tr th {\n",
       "        vertical-align: top;\n",
       "    }\n",
       "\n",
       "    .dataframe thead th {\n",
       "        text-align: right;\n",
       "    }\n",
       "</style>\n",
       "<table border=\"1\" class=\"dataframe\">\n",
       "  <thead>\n",
       "    <tr style=\"text-align: right;\">\n",
       "      <th></th>\n",
       "      <th>id_odsp</th>\n",
       "      <th>time</th>\n",
       "      <th>event_type</th>\n",
       "      <th>event_type2</th>\n",
       "      <th>side</th>\n",
       "      <th>event_team</th>\n",
       "      <th>opponent</th>\n",
       "      <th>shot_place</th>\n",
       "      <th>shot_outcome</th>\n",
       "      <th>is_goal</th>\n",
       "    </tr>\n",
       "  </thead>\n",
       "  <tbody>\n",
       "    <tr>\n",
       "      <th>0</th>\n",
       "      <td>UFot0hit/</td>\n",
       "      <td>2</td>\n",
       "      <td>1</td>\n",
       "      <td>12.0</td>\n",
       "      <td>2</td>\n",
       "      <td>Hamburg SV</td>\n",
       "      <td>Borussia Dortmund</td>\n",
       "      <td>6.0</td>\n",
       "      <td>2.0</td>\n",
       "      <td>0</td>\n",
       "    </tr>\n",
       "    <tr>\n",
       "      <th>1</th>\n",
       "      <td>UFot0hit/</td>\n",
       "      <td>4</td>\n",
       "      <td>2</td>\n",
       "      <td>NaN</td>\n",
       "      <td>1</td>\n",
       "      <td>Borussia Dortmund</td>\n",
       "      <td>Hamburg SV</td>\n",
       "      <td>NaN</td>\n",
       "      <td>NaN</td>\n",
       "      <td>0</td>\n",
       "    </tr>\n",
       "    <tr>\n",
       "      <th>2</th>\n",
       "      <td>UFot0hit/</td>\n",
       "      <td>4</td>\n",
       "      <td>2</td>\n",
       "      <td>NaN</td>\n",
       "      <td>1</td>\n",
       "      <td>Borussia Dortmund</td>\n",
       "      <td>Hamburg SV</td>\n",
       "      <td>NaN</td>\n",
       "      <td>NaN</td>\n",
       "      <td>0</td>\n",
       "    </tr>\n",
       "    <tr>\n",
       "      <th>3</th>\n",
       "      <td>UFot0hit/</td>\n",
       "      <td>7</td>\n",
       "      <td>3</td>\n",
       "      <td>NaN</td>\n",
       "      <td>1</td>\n",
       "      <td>Borussia Dortmund</td>\n",
       "      <td>Hamburg SV</td>\n",
       "      <td>NaN</td>\n",
       "      <td>NaN</td>\n",
       "      <td>0</td>\n",
       "    </tr>\n",
       "    <tr>\n",
       "      <th>4</th>\n",
       "      <td>UFot0hit/</td>\n",
       "      <td>7</td>\n",
       "      <td>8</td>\n",
       "      <td>NaN</td>\n",
       "      <td>2</td>\n",
       "      <td>Hamburg SV</td>\n",
       "      <td>Borussia Dortmund</td>\n",
       "      <td>NaN</td>\n",
       "      <td>NaN</td>\n",
       "      <td>0</td>\n",
       "    </tr>\n",
       "  </tbody>\n",
       "</table>\n",
       "</div>"
      ],
      "text/plain": [
       "     id_odsp  time  event_type  event_type2  side         event_team  \\\n",
       "0  UFot0hit/     2           1         12.0     2         Hamburg SV   \n",
       "1  UFot0hit/     4           2          NaN     1  Borussia Dortmund   \n",
       "2  UFot0hit/     4           2          NaN     1  Borussia Dortmund   \n",
       "3  UFot0hit/     7           3          NaN     1  Borussia Dortmund   \n",
       "4  UFot0hit/     7           8          NaN     2         Hamburg SV   \n",
       "\n",
       "            opponent  shot_place  shot_outcome  is_goal  \n",
       "0  Borussia Dortmund         6.0           2.0        0  \n",
       "1         Hamburg SV         NaN           NaN        0  \n",
       "2         Hamburg SV         NaN           NaN        0  \n",
       "3         Hamburg SV         NaN           NaN        0  \n",
       "4  Borussia Dortmund         NaN           NaN        0  "
      ]
     },
     "execution_count": 115,
     "metadata": {},
     "output_type": "execute_result"
    }
   ],
   "source": [
    "df.head()"
   ]
  },
  {
   "cell_type": "code",
   "execution_count": 117,
   "metadata": {},
   "outputs": [
    {
     "name": "stderr",
     "output_type": "stream",
     "text": [
      "C:\\Users\\KIIT0001\\AppData\\Local\\Temp\\ipykernel_30624\\3601318277.py:1: FutureWarning: DataFrame.interpolate with object dtype is deprecated and will raise in a future version. Call obj.infer_objects(copy=False) before interpolating instead.\n",
      "  df=df.interpolate(method='linear',limit_direction='forward')\n"
     ]
    }
   ],
   "source": [
    "df=df.interpolate(method='linear',limit_direction='forward')"
   ]
  },
  {
   "cell_type": "code",
   "execution_count": 118,
   "metadata": {},
   "outputs": [
    {
     "data": {
      "text/plain": [
       "id_odsp         0\n",
       "time            0\n",
       "event_type      0\n",
       "event_type2     0\n",
       "side            0\n",
       "event_team      0\n",
       "opponent        0\n",
       "shot_place      0\n",
       "shot_outcome    0\n",
       "is_goal         0\n",
       "dtype: int64"
      ]
     },
     "execution_count": 118,
     "metadata": {},
     "output_type": "execute_result"
    }
   ],
   "source": [
    "df.isnull().sum()"
   ]
  },
  {
   "cell_type": "code",
   "execution_count": 119,
   "metadata": {},
   "outputs": [
    {
     "data": {
      "text/html": [
       "<div>\n",
       "<style scoped>\n",
       "    .dataframe tbody tr th:only-of-type {\n",
       "        vertical-align: middle;\n",
       "    }\n",
       "\n",
       "    .dataframe tbody tr th {\n",
       "        vertical-align: top;\n",
       "    }\n",
       "\n",
       "    .dataframe thead th {\n",
       "        text-align: right;\n",
       "    }\n",
       "</style>\n",
       "<table border=\"1\" class=\"dataframe\">\n",
       "  <thead>\n",
       "    <tr style=\"text-align: right;\">\n",
       "      <th></th>\n",
       "      <th>id_odsp</th>\n",
       "      <th>time</th>\n",
       "      <th>event_type</th>\n",
       "      <th>event_type2</th>\n",
       "      <th>side</th>\n",
       "      <th>event_team</th>\n",
       "      <th>opponent</th>\n",
       "      <th>shot_place</th>\n",
       "      <th>shot_outcome</th>\n",
       "      <th>is_goal</th>\n",
       "    </tr>\n",
       "  </thead>\n",
       "  <tbody>\n",
       "    <tr>\n",
       "      <th>941004</th>\n",
       "      <td>z5L2OT5E/</td>\n",
       "      <td>92</td>\n",
       "      <td>8</td>\n",
       "      <td>12.0</td>\n",
       "      <td>2</td>\n",
       "      <td>Sampdoria</td>\n",
       "      <td>Atalanta</td>\n",
       "      <td>7.538462</td>\n",
       "      <td>1.846154</td>\n",
       "      <td>0</td>\n",
       "    </tr>\n",
       "    <tr>\n",
       "      <th>941005</th>\n",
       "      <td>z5L2OT5E/</td>\n",
       "      <td>93</td>\n",
       "      <td>2</td>\n",
       "      <td>12.0</td>\n",
       "      <td>2</td>\n",
       "      <td>Sampdoria</td>\n",
       "      <td>Atalanta</td>\n",
       "      <td>7.769231</td>\n",
       "      <td>1.923077</td>\n",
       "      <td>0</td>\n",
       "    </tr>\n",
       "    <tr>\n",
       "      <th>941006</th>\n",
       "      <td>z5L2OT5E/</td>\n",
       "      <td>93</td>\n",
       "      <td>1</td>\n",
       "      <td>12.0</td>\n",
       "      <td>2</td>\n",
       "      <td>Sampdoria</td>\n",
       "      <td>Atalanta</td>\n",
       "      <td>8.000000</td>\n",
       "      <td>2.000000</td>\n",
       "      <td>0</td>\n",
       "    </tr>\n",
       "    <tr>\n",
       "      <th>941007</th>\n",
       "      <td>z5L2OT5E/</td>\n",
       "      <td>94</td>\n",
       "      <td>8</td>\n",
       "      <td>12.0</td>\n",
       "      <td>1</td>\n",
       "      <td>Atalanta</td>\n",
       "      <td>Sampdoria</td>\n",
       "      <td>8.000000</td>\n",
       "      <td>2.000000</td>\n",
       "      <td>0</td>\n",
       "    </tr>\n",
       "    <tr>\n",
       "      <th>941008</th>\n",
       "      <td>z5L2OT5E/</td>\n",
       "      <td>94</td>\n",
       "      <td>3</td>\n",
       "      <td>12.0</td>\n",
       "      <td>2</td>\n",
       "      <td>Sampdoria</td>\n",
       "      <td>Atalanta</td>\n",
       "      <td>8.000000</td>\n",
       "      <td>2.000000</td>\n",
       "      <td>0</td>\n",
       "    </tr>\n",
       "  </tbody>\n",
       "</table>\n",
       "</div>"
      ],
      "text/plain": [
       "          id_odsp  time  event_type  event_type2  side event_team   opponent  \\\n",
       "941004  z5L2OT5E/    92           8         12.0     2  Sampdoria   Atalanta   \n",
       "941005  z5L2OT5E/    93           2         12.0     2  Sampdoria   Atalanta   \n",
       "941006  z5L2OT5E/    93           1         12.0     2  Sampdoria   Atalanta   \n",
       "941007  z5L2OT5E/    94           8         12.0     1   Atalanta  Sampdoria   \n",
       "941008  z5L2OT5E/    94           3         12.0     2  Sampdoria   Atalanta   \n",
       "\n",
       "        shot_place  shot_outcome  is_goal  \n",
       "941004    7.538462      1.846154        0  \n",
       "941005    7.769231      1.923077        0  \n",
       "941006    8.000000      2.000000        0  \n",
       "941007    8.000000      2.000000        0  \n",
       "941008    8.000000      2.000000        0  "
      ]
     },
     "execution_count": 119,
     "metadata": {},
     "output_type": "execute_result"
    }
   ],
   "source": [
    "df.tail()"
   ]
  },
  {
   "cell_type": "code",
   "execution_count": 120,
   "metadata": {},
   "outputs": [],
   "source": [
    "df.reset_index(inplace=True)"
   ]
  },
  {
   "cell_type": "code",
   "execution_count": 121,
   "metadata": {},
   "outputs": [
    {
     "data": {
      "text/html": [
       "<div>\n",
       "<style scoped>\n",
       "    .dataframe tbody tr th:only-of-type {\n",
       "        vertical-align: middle;\n",
       "    }\n",
       "\n",
       "    .dataframe tbody tr th {\n",
       "        vertical-align: top;\n",
       "    }\n",
       "\n",
       "    .dataframe thead th {\n",
       "        text-align: right;\n",
       "    }\n",
       "</style>\n",
       "<table border=\"1\" class=\"dataframe\">\n",
       "  <thead>\n",
       "    <tr style=\"text-align: right;\">\n",
       "      <th></th>\n",
       "      <th>index</th>\n",
       "      <th>id_odsp</th>\n",
       "      <th>time</th>\n",
       "      <th>event_type</th>\n",
       "      <th>event_type2</th>\n",
       "      <th>side</th>\n",
       "      <th>event_team</th>\n",
       "      <th>opponent</th>\n",
       "      <th>shot_place</th>\n",
       "      <th>shot_outcome</th>\n",
       "      <th>is_goal</th>\n",
       "    </tr>\n",
       "  </thead>\n",
       "  <tbody>\n",
       "    <tr>\n",
       "      <th>0</th>\n",
       "      <td>0</td>\n",
       "      <td>UFot0hit/</td>\n",
       "      <td>2</td>\n",
       "      <td>1</td>\n",
       "      <td>12.0</td>\n",
       "      <td>2</td>\n",
       "      <td>Hamburg SV</td>\n",
       "      <td>Borussia Dortmund</td>\n",
       "      <td>6.000000</td>\n",
       "      <td>2.0</td>\n",
       "      <td>0</td>\n",
       "    </tr>\n",
       "    <tr>\n",
       "      <th>1</th>\n",
       "      <td>1</td>\n",
       "      <td>UFot0hit/</td>\n",
       "      <td>4</td>\n",
       "      <td>2</td>\n",
       "      <td>12.0</td>\n",
       "      <td>1</td>\n",
       "      <td>Borussia Dortmund</td>\n",
       "      <td>Hamburg SV</td>\n",
       "      <td>6.636364</td>\n",
       "      <td>2.0</td>\n",
       "      <td>0</td>\n",
       "    </tr>\n",
       "    <tr>\n",
       "      <th>2</th>\n",
       "      <td>2</td>\n",
       "      <td>UFot0hit/</td>\n",
       "      <td>4</td>\n",
       "      <td>2</td>\n",
       "      <td>12.0</td>\n",
       "      <td>1</td>\n",
       "      <td>Borussia Dortmund</td>\n",
       "      <td>Hamburg SV</td>\n",
       "      <td>7.272727</td>\n",
       "      <td>2.0</td>\n",
       "      <td>0</td>\n",
       "    </tr>\n",
       "    <tr>\n",
       "      <th>3</th>\n",
       "      <td>3</td>\n",
       "      <td>UFot0hit/</td>\n",
       "      <td>7</td>\n",
       "      <td>3</td>\n",
       "      <td>12.0</td>\n",
       "      <td>1</td>\n",
       "      <td>Borussia Dortmund</td>\n",
       "      <td>Hamburg SV</td>\n",
       "      <td>7.909091</td>\n",
       "      <td>2.0</td>\n",
       "      <td>0</td>\n",
       "    </tr>\n",
       "    <tr>\n",
       "      <th>4</th>\n",
       "      <td>4</td>\n",
       "      <td>UFot0hit/</td>\n",
       "      <td>7</td>\n",
       "      <td>8</td>\n",
       "      <td>12.0</td>\n",
       "      <td>2</td>\n",
       "      <td>Hamburg SV</td>\n",
       "      <td>Borussia Dortmund</td>\n",
       "      <td>8.545455</td>\n",
       "      <td>2.0</td>\n",
       "      <td>0</td>\n",
       "    </tr>\n",
       "  </tbody>\n",
       "</table>\n",
       "</div>"
      ],
      "text/plain": [
       "   index    id_odsp  time  event_type  event_type2  side         event_team  \\\n",
       "0      0  UFot0hit/     2           1         12.0     2         Hamburg SV   \n",
       "1      1  UFot0hit/     4           2         12.0     1  Borussia Dortmund   \n",
       "2      2  UFot0hit/     4           2         12.0     1  Borussia Dortmund   \n",
       "3      3  UFot0hit/     7           3         12.0     1  Borussia Dortmund   \n",
       "4      4  UFot0hit/     7           8         12.0     2         Hamburg SV   \n",
       "\n",
       "            opponent  shot_place  shot_outcome  is_goal  \n",
       "0  Borussia Dortmund    6.000000           2.0        0  \n",
       "1         Hamburg SV    6.636364           2.0        0  \n",
       "2         Hamburg SV    7.272727           2.0        0  \n",
       "3         Hamburg SV    7.909091           2.0        0  \n",
       "4  Borussia Dortmund    8.545455           2.0        0  "
      ]
     },
     "execution_count": 121,
     "metadata": {},
     "output_type": "execute_result"
    }
   ],
   "source": [
    "df.head()"
   ]
  },
  {
   "cell_type": "code",
   "execution_count": 122,
   "metadata": {},
   "outputs": [],
   "source": [
    "df.drop(['index'],axis=1,inplace=True)"
   ]
  },
  {
   "cell_type": "code",
   "execution_count": 171,
   "metadata": {},
   "outputs": [],
   "source": [
    "encoding = pd.read_table('dictionary.txt')\n",
    "event_type=encoding[1:12]\n",
    "event_type_2=encoding[13:17]\n",
    "side=encoding[18:20]\n",
    "shot_place=encoding[21:34]\n",
    "shot_outcome=encoding[35:39]\n"
   ]
  },
  {
   "cell_type": "markdown",
   "metadata": {},
   "source": [
    "## Analysis"
   ]
  },
  {
   "cell_type": "code",
   "execution_count": 124,
   "metadata": {},
   "outputs": [
    {
     "data": {
      "text/html": [
       "<div>\n",
       "<style scoped>\n",
       "    .dataframe tbody tr th:only-of-type {\n",
       "        vertical-align: middle;\n",
       "    }\n",
       "\n",
       "    .dataframe tbody tr th {\n",
       "        vertical-align: top;\n",
       "    }\n",
       "\n",
       "    .dataframe thead th {\n",
       "        text-align: right;\n",
       "    }\n",
       "</style>\n",
       "<table border=\"1\" class=\"dataframe\">\n",
       "  <thead>\n",
       "    <tr style=\"text-align: right;\">\n",
       "      <th></th>\n",
       "      <th>count</th>\n",
       "      <th>mean</th>\n",
       "      <th>std</th>\n",
       "      <th>min</th>\n",
       "      <th>25%</th>\n",
       "      <th>50%</th>\n",
       "      <th>75%</th>\n",
       "      <th>max</th>\n",
       "    </tr>\n",
       "  </thead>\n",
       "  <tbody>\n",
       "    <tr>\n",
       "      <th>time</th>\n",
       "      <td>941009.0</td>\n",
       "      <td>49.663663</td>\n",
       "      <td>26.488977</td>\n",
       "      <td>0.0</td>\n",
       "      <td>27.000000</td>\n",
       "      <td>51.0</td>\n",
       "      <td>73.000000</td>\n",
       "      <td>100.0</td>\n",
       "    </tr>\n",
       "    <tr>\n",
       "      <th>event_type</th>\n",
       "      <td>941009.0</td>\n",
       "      <td>4.326575</td>\n",
       "      <td>2.995313</td>\n",
       "      <td>1.0</td>\n",
       "      <td>2.000000</td>\n",
       "      <td>3.0</td>\n",
       "      <td>8.000000</td>\n",
       "      <td>11.0</td>\n",
       "    </tr>\n",
       "    <tr>\n",
       "      <th>event_type2</th>\n",
       "      <td>941009.0</td>\n",
       "      <td>12.237666</td>\n",
       "      <td>0.400198</td>\n",
       "      <td>12.0</td>\n",
       "      <td>12.000000</td>\n",
       "      <td>12.0</td>\n",
       "      <td>12.409091</td>\n",
       "      <td>15.0</td>\n",
       "    </tr>\n",
       "    <tr>\n",
       "      <th>side</th>\n",
       "      <td>941009.0</td>\n",
       "      <td>1.481170</td>\n",
       "      <td>0.499646</td>\n",
       "      <td>1.0</td>\n",
       "      <td>1.000000</td>\n",
       "      <td>1.0</td>\n",
       "      <td>2.000000</td>\n",
       "      <td>2.0</td>\n",
       "    </tr>\n",
       "    <tr>\n",
       "      <th>shot_place</th>\n",
       "      <td>941009.0</td>\n",
       "      <td>5.793914</td>\n",
       "      <td>2.809382</td>\n",
       "      <td>1.0</td>\n",
       "      <td>3.400000</td>\n",
       "      <td>5.5</td>\n",
       "      <td>8.000000</td>\n",
       "      <td>13.0</td>\n",
       "    </tr>\n",
       "    <tr>\n",
       "      <th>shot_outcome</th>\n",
       "      <td>941009.0</td>\n",
       "      <td>1.914259</td>\n",
       "      <td>0.663624</td>\n",
       "      <td>1.0</td>\n",
       "      <td>1.333333</td>\n",
       "      <td>2.0</td>\n",
       "      <td>2.333333</td>\n",
       "      <td>4.0</td>\n",
       "    </tr>\n",
       "    <tr>\n",
       "      <th>is_goal</th>\n",
       "      <td>941009.0</td>\n",
       "      <td>0.025978</td>\n",
       "      <td>0.159071</td>\n",
       "      <td>0.0</td>\n",
       "      <td>0.000000</td>\n",
       "      <td>0.0</td>\n",
       "      <td>0.000000</td>\n",
       "      <td>1.0</td>\n",
       "    </tr>\n",
       "  </tbody>\n",
       "</table>\n",
       "</div>"
      ],
      "text/plain": [
       "                 count       mean        std   min        25%   50%  \\\n",
       "time          941009.0  49.663663  26.488977   0.0  27.000000  51.0   \n",
       "event_type    941009.0   4.326575   2.995313   1.0   2.000000   3.0   \n",
       "event_type2   941009.0  12.237666   0.400198  12.0  12.000000  12.0   \n",
       "side          941009.0   1.481170   0.499646   1.0   1.000000   1.0   \n",
       "shot_place    941009.0   5.793914   2.809382   1.0   3.400000   5.5   \n",
       "shot_outcome  941009.0   1.914259   0.663624   1.0   1.333333   2.0   \n",
       "is_goal       941009.0   0.025978   0.159071   0.0   0.000000   0.0   \n",
       "\n",
       "                    75%    max  \n",
       "time          73.000000  100.0  \n",
       "event_type     8.000000   11.0  \n",
       "event_type2   12.409091   15.0  \n",
       "side           2.000000    2.0  \n",
       "shot_place     8.000000   13.0  \n",
       "shot_outcome   2.333333    4.0  \n",
       "is_goal        0.000000    1.0  "
      ]
     },
     "execution_count": 124,
     "metadata": {},
     "output_type": "execute_result"
    }
   ],
   "source": [
    "df.describe().T"
   ]
  },
  {
   "cell_type": "code",
   "execution_count": 125,
   "metadata": {},
   "outputs": [
    {
     "name": "stdout",
     "output_type": "stream",
     "text": [
      "Categorial Data \n",
      " Index(['id_odsp', 'event_team', 'opponent'], dtype='object')\n",
      "Numerical Data \n",
      " Index(['time', 'event_type', 'event_type2', 'side', 'shot_place',\n",
      "       'shot_outcome', 'is_goal'],\n",
      "      dtype='object')\n"
     ]
    }
   ],
   "source": [
    "cat_cols=df.select_dtypes(include=['object']).columns\n",
    "num_col=df.select_dtypes(include=np.number).columns\n",
    "print('Categorial Data \\n',cat_cols)\n",
    "print('Numerical Data \\n',num_col)"
   ]
  },
  {
   "cell_type": "markdown",
   "metadata": {},
   "source": [
    "### Heatmap Analysis\n"
   ]
  },
  {
   "cell_type": "code",
   "execution_count": 126,
   "metadata": {},
   "outputs": [
    {
     "data": {
      "image/png": "[encoded data removed]",
      "text/plain": [
       "<Figure size 640x480 with 2 Axes>"
      ]
     },
     "metadata": {},
     "output_type": "display_data"
    }
   ],
   "source": [
    "plt.figure()\n",
    "sns.heatmap(df.drop(['id_odsp','event_team','opponent'],axis=1).corr())\n",
    "plt.show()"
   ]
  },
  {
   "cell_type": "markdown",
   "metadata": {},
   "source": [
    "### Number of goals by a team"
   ]
  },
  {
   "cell_type": "code",
   "execution_count": 172,
   "metadata": {},
   "outputs": [],
   "source": [
    "fin=df.loc[df.is_goal==1]\n",
    "team_names=fin['event_team'].value_counts().index\n",
    "team_goals=fin['event_team'].value_counts().values\n",
    "\n"
   ]
  },
  {
   "cell_type": "code",
   "execution_count": 128,
   "metadata": {},
   "outputs": [
    {
     "data": {
      "image/png": "[encoded data removed]",
      "text/plain": [
       "<Figure size 640x480 with 1 Axes>"
      ]
     },
     "metadata": {},
     "output_type": "display_data"
    }
   ],
   "source": [
    "plt.bar(team_names[:10],team_goals[:10])\n",
    "plt.title(\"Number of goals \")\n",
    "plt.xlabel(\"Teams\")\n",
    "plt.ylabel(\"Goals\")\n",
    "plt.show()"
   ]
  },
  {
   "cell_type": "code",
   "execution_count": 129,
   "metadata": {},
   "outputs": [
    {
     "data": {
      "text/plain": [
       "([<matplotlib.patches.Wedge at 0x26a325bcd90>,\n",
       "  <matplotlib.patches.Wedge at 0x26a325bdb90>,\n",
       "  <matplotlib.patches.Wedge at 0x26a40064950>,\n",
       "  <matplotlib.patches.Wedge at 0x26a40065210>,\n",
       "  <matplotlib.patches.Wedge at 0x26a40066210>,\n",
       "  <matplotlib.patches.Wedge at 0x26a3716aa90>,\n",
       "  <matplotlib.patches.Wedge at 0x26a37168c10>,\n",
       "  <matplotlib.patches.Wedge at 0x26a3716a990>,\n",
       "  <matplotlib.patches.Wedge at 0x26a37168090>,\n",
       "  <matplotlib.patches.Wedge at 0x26a3716b150>],\n",
       " [Text(1.0020668207521366, 0.4537202736793953, 'Barcelona'),\n",
       "  Text(0.3300362432276406, 1.0493217229030312, 'Real Madrid'),\n",
       "  Text(-0.4682128234325102, 0.9953776931262611, 'Bayern Munich'),\n",
       "  Text(-0.9766418250882231, 0.5061331302022668, 'Paris Saint-Germain'),\n",
       "  Text(-1.0894547119875175, -0.1519487760009786, 'Napoli'),\n",
       "  Text(-0.8255969942774876, -0.7269041223159891, 'Juventus'),\n",
       "  Text(-0.2971439609404355, -1.0591059750924972, 'Borussia Dortmund'),\n",
       "  Text(0.30558711018903345, -1.056700770363264, 'AS Roma'),\n",
       "  Text(0.7964912120482406, -0.7586842222755953, 'Lyon'),\n",
       "  Text(1.0653222992520095, -0.27402262446084996, 'Atletico Madrid')])"
      ]
     },
     "execution_count": 129,
     "metadata": {},
     "output_type": "execute_result"
    },
    {
     "data": {
      "image/png": "[encoded data removed]",
      "text/plain": [
       "<Figure size 640x480 with 1 Axes>"
      ]
     },
     "metadata": {},
     "output_type": "display_data"
    }
   ],
   "source": [
    "plt.pie(team_goals[:10],labels=team_names[:10])"
   ]
  },
  {
   "cell_type": "markdown",
   "metadata": {},
   "source": [
    "### Shot placed versus its outcome"
   ]
  },
  {
   "cell_type": "code",
   "execution_count": 130,
   "metadata": {},
   "outputs": [
    {
     "data": {
      "image/png": "[encoded data removed]",
      "text/plain": [
       "<Figure size 640x480 with 1 Axes>"
      ]
     },
     "metadata": {},
     "output_type": "display_data"
    }
   ],
   "source": [
    "plt.bar(df['shot_place'][:100],df['shot_outcome'][:100],color='blue',width=0.1)\n",
    "plt.xlabel(\"Shot Placed\")\n",
    "plt.ylabel(\"Shot Outcome \")\n",
    "plt.show()\n"
   ]
  },
  {
   "cell_type": "markdown",
   "metadata": {},
   "source": [
    "### Number of goals placed against Time"
   ]
  },
  {
   "cell_type": "code",
   "execution_count": 131,
   "metadata": {},
   "outputs": [
    {
     "name": "stderr",
     "output_type": "stream",
     "text": [
      "No artists with labels found to put in legend.  Note that artists whose label start with an underscore are ignored when legend() is called with no argument.\n"
     ]
    },
    {
     "data": {
      "text/plain": [
       "<matplotlib.legend.Legend at 0x26a3a854a50>"
      ]
     },
     "execution_count": 131,
     "metadata": {},
     "output_type": "execute_result"
    },
    {
     "data": {
      "image/png": "[encoded data removed]",
      "text/plain": [
       "<Figure size 800x600 with 1 Axes>"
      ]
     },
     "metadata": {},
     "output_type": "display_data"
    }
   ],
   "source": [
    "fig=plt.figure(figsize=(8,6))\n",
    "goals=df[df['is_goal']==1]\n",
    "plt.hist(goals['time'],bins=50,color='black')\n",
    "plt.xlabel('Time')\n",
    "plt.ylabel('Goals')\n",
    "plt.legend()"
   ]
  },
  {
   "cell_type": "markdown",
   "metadata": {},
   "source": [
    "### Home Vs Away Goal Comparison Against Time"
   ]
  },
  {
   "cell_type": "code",
   "execution_count": 132,
   "metadata": {},
   "outputs": [
    {
     "data": {
      "text/plain": [
       "Text(0.5, 1.0, 'Number of goals by home and away vs Time')"
      ]
     },
     "execution_count": 132,
     "metadata": {},
     "output_type": "execute_result"
    },
    {
     "data": {
      "image/png": "[encoded data removed]",
      "text/plain": [
       "<Figure size 800x600 with 1 Axes>"
      ]
     },
     "metadata": {},
     "output_type": "display_data"
    }
   ],
   "source": [
    "fig=plt.figure(figsize=(8,6))\n",
    "\n",
    "goals=df[df['is_goal']==1]\n",
    "plt.hist(goals[goals['side']==1]['time'],width=4,color='pink',label='home goals')\n",
    "plt.hist(goals[goals['side']==2]['time'],width=4,color='green',label='away goals')\n",
    "plt.xlabel(\"Time\")\n",
    "plt.ylabel(\"Number Of Goals\")\n",
    "plt.legend()\n",
    "plt.title(\"Number of goals by home and away vs Time\")"
   ]
  },
  {
   "cell_type": "markdown",
   "metadata": {},
   "source": [
    "### Comparison of Goal or Not Goal"
   ]
  },
  {
   "cell_type": "code",
   "execution_count": 133,
   "metadata": {},
   "outputs": [
    {
     "data": {
      "text/plain": [
       "([<matplotlib.patches.Wedge at 0x26a34c230d0>,\n",
       "  <matplotlib.patches.Wedge at 0x26a34c22f10>],\n",
       " [Text(1.0963385809283257, 0.08967561523661484, 'Is a goal'),\n",
       "  Text(-1.0963385830273347, -0.08967558957495832, 'Is not a Goal')])"
      ]
     },
     "execution_count": 133,
     "metadata": {},
     "output_type": "execute_result"
    },
    {
     "data": {
      "image/png": "[encoded data removed]",
      "text/plain": [
       "<Figure size 640x480 with 1 Axes>"
      ]
     },
     "metadata": {},
     "output_type": "display_data"
    }
   ],
   "source": [
    "goalyes=len(df[df['is_goal']==1])\n",
    "goalno=len(df[df['is_goal']==0])\n",
    "goals=[goalyes,goalno]\n",
    "plt.pie(goals,labels=['Is a goal','Is not a Goal'])\n",
    "\n"
   ]
  },
  {
   "cell_type": "markdown",
   "metadata": {},
   "source": []
  },
  {
   "cell_type": "markdown",
   "metadata": {},
   "source": [
    "# Predictive Modelling"
   ]
  },
  {
   "cell_type": "markdown",
   "metadata": {},
   "source": []
  },
  {
   "cell_type": "code",
   "execution_count": 134,
   "metadata": {},
   "outputs": [
    {
     "data": {
      "text/plain": [
       "Index(['id_odsp', 'link_odsp', 'adv_stats', 'date', 'league', 'season',\n",
       "       'country', 'ht', 'at', 'fthg', 'ftag', 'odd_h', 'odd_d', 'odd_a',\n",
       "       'odd_over', 'odd_under', 'odd_bts', 'odd_bts_n'],\n",
       "      dtype='object')"
      ]
     },
     "execution_count": 134,
     "metadata": {},
     "output_type": "execute_result"
    }
   ],
   "source": [
    "dfa=pd.read_csv('ginf.csv')\n",
    "dfa.columns"
   ]
  },
  {
   "cell_type": "code",
   "execution_count": 135,
   "metadata": {},
   "outputs": [],
   "source": [
    "dfa.drop(['id_odsp', 'link_odsp', 'adv_stats', 'season','odd_over', 'odd_under', 'odd_bts', 'odd_bts_n'],axis=1,inplace=True)"
   ]
  },
  {
   "cell_type": "code",
   "execution_count": 136,
   "metadata": {},
   "outputs": [
    {
     "data": {
      "text/html": [
       "<div>\n",
       "<style scoped>\n",
       "    .dataframe tbody tr th:only-of-type {\n",
       "        vertical-align: middle;\n",
       "    }\n",
       "\n",
       "    .dataframe tbody tr th {\n",
       "        vertical-align: top;\n",
       "    }\n",
       "\n",
       "    .dataframe thead th {\n",
       "        text-align: right;\n",
       "    }\n",
       "</style>\n",
       "<table border=\"1\" class=\"dataframe\">\n",
       "  <thead>\n",
       "    <tr style=\"text-align: right;\">\n",
       "      <th></th>\n",
       "      <th>date</th>\n",
       "      <th>league</th>\n",
       "      <th>country</th>\n",
       "      <th>ht</th>\n",
       "      <th>at</th>\n",
       "      <th>fthg</th>\n",
       "      <th>ftag</th>\n",
       "      <th>odd_h</th>\n",
       "      <th>odd_d</th>\n",
       "      <th>odd_a</th>\n",
       "    </tr>\n",
       "  </thead>\n",
       "  <tbody>\n",
       "    <tr>\n",
       "      <th>0</th>\n",
       "      <td>2011-08-05</td>\n",
       "      <td>D1</td>\n",
       "      <td>germany</td>\n",
       "      <td>Borussia Dortmund</td>\n",
       "      <td>Hamburg SV</td>\n",
       "      <td>3</td>\n",
       "      <td>1</td>\n",
       "      <td>1.56</td>\n",
       "      <td>4.41</td>\n",
       "      <td>7.42</td>\n",
       "    </tr>\n",
       "    <tr>\n",
       "      <th>1</th>\n",
       "      <td>2011-08-06</td>\n",
       "      <td>D1</td>\n",
       "      <td>germany</td>\n",
       "      <td>FC Augsburg</td>\n",
       "      <td>SC Freiburg</td>\n",
       "      <td>2</td>\n",
       "      <td>2</td>\n",
       "      <td>2.36</td>\n",
       "      <td>3.60</td>\n",
       "      <td>3.40</td>\n",
       "    </tr>\n",
       "    <tr>\n",
       "      <th>2</th>\n",
       "      <td>2011-08-06</td>\n",
       "      <td>D1</td>\n",
       "      <td>germany</td>\n",
       "      <td>Werder Bremen</td>\n",
       "      <td>Kaiserslautern</td>\n",
       "      <td>2</td>\n",
       "      <td>0</td>\n",
       "      <td>1.83</td>\n",
       "      <td>4.20</td>\n",
       "      <td>4.80</td>\n",
       "    </tr>\n",
       "    <tr>\n",
       "      <th>3</th>\n",
       "      <td>2011-08-06</td>\n",
       "      <td>F1</td>\n",
       "      <td>france</td>\n",
       "      <td>Paris Saint-Germain</td>\n",
       "      <td>Lorient</td>\n",
       "      <td>0</td>\n",
       "      <td>1</td>\n",
       "      <td>1.55</td>\n",
       "      <td>4.50</td>\n",
       "      <td>9.40</td>\n",
       "    </tr>\n",
       "    <tr>\n",
       "      <th>4</th>\n",
       "      <td>2011-08-06</td>\n",
       "      <td>F1</td>\n",
       "      <td>france</td>\n",
       "      <td>Caen</td>\n",
       "      <td>Valenciennes</td>\n",
       "      <td>1</td>\n",
       "      <td>0</td>\n",
       "      <td>2.50</td>\n",
       "      <td>3.40</td>\n",
       "      <td>3.45</td>\n",
       "    </tr>\n",
       "    <tr>\n",
       "      <th>...</th>\n",
       "      <td>...</td>\n",
       "      <td>...</td>\n",
       "      <td>...</td>\n",
       "      <td>...</td>\n",
       "      <td>...</td>\n",
       "      <td>...</td>\n",
       "      <td>...</td>\n",
       "      <td>...</td>\n",
       "      <td>...</td>\n",
       "      <td>...</td>\n",
       "    </tr>\n",
       "    <tr>\n",
       "      <th>10107</th>\n",
       "      <td>2017-01-22</td>\n",
       "      <td>I1</td>\n",
       "      <td>italy</td>\n",
       "      <td>Genoa</td>\n",
       "      <td>Crotone</td>\n",
       "      <td>2</td>\n",
       "      <td>2</td>\n",
       "      <td>1.97</td>\n",
       "      <td>4.35</td>\n",
       "      <td>8.00</td>\n",
       "    </tr>\n",
       "    <tr>\n",
       "      <th>10108</th>\n",
       "      <td>2017-01-22</td>\n",
       "      <td>E0</td>\n",
       "      <td>england</td>\n",
       "      <td>Chelsea</td>\n",
       "      <td>Hull</td>\n",
       "      <td>2</td>\n",
       "      <td>0</td>\n",
       "      <td>1.19</td>\n",
       "      <td>8.50</td>\n",
       "      <td>20.00</td>\n",
       "    </tr>\n",
       "    <tr>\n",
       "      <th>10109</th>\n",
       "      <td>2017-01-22</td>\n",
       "      <td>F1</td>\n",
       "      <td>france</td>\n",
       "      <td>AS Monaco</td>\n",
       "      <td>Lorient</td>\n",
       "      <td>4</td>\n",
       "      <td>0</td>\n",
       "      <td>1.32</td>\n",
       "      <td>6.24</td>\n",
       "      <td>11.50</td>\n",
       "    </tr>\n",
       "    <tr>\n",
       "      <th>10110</th>\n",
       "      <td>2017-01-22</td>\n",
       "      <td>SP1</td>\n",
       "      <td>spain</td>\n",
       "      <td>Real Betis</td>\n",
       "      <td>Sporting Gijon</td>\n",
       "      <td>0</td>\n",
       "      <td>0</td>\n",
       "      <td>1.74</td>\n",
       "      <td>4.07</td>\n",
       "      <td>5.90</td>\n",
       "    </tr>\n",
       "    <tr>\n",
       "      <th>10111</th>\n",
       "      <td>2017-01-22</td>\n",
       "      <td>I1</td>\n",
       "      <td>italy</td>\n",
       "      <td>Atalanta</td>\n",
       "      <td>Sampdoria</td>\n",
       "      <td>1</td>\n",
       "      <td>0</td>\n",
       "      <td>1.79</td>\n",
       "      <td>3.96</td>\n",
       "      <td>5.40</td>\n",
       "    </tr>\n",
       "  </tbody>\n",
       "</table>\n",
       "<p>10112 rows × 10 columns</p>\n",
       "</div>"
      ],
      "text/plain": [
       "             date league  country                   ht              at  fthg  \\\n",
       "0      2011-08-05     D1  germany    Borussia Dortmund      Hamburg SV     3   \n",
       "1      2011-08-06     D1  germany          FC Augsburg     SC Freiburg     2   \n",
       "2      2011-08-06     D1  germany        Werder Bremen  Kaiserslautern     2   \n",
       "3      2011-08-06     F1   france  Paris Saint-Germain         Lorient     0   \n",
       "4      2011-08-06     F1   france                 Caen    Valenciennes     1   \n",
       "...           ...    ...      ...                  ...             ...   ...   \n",
       "10107  2017-01-22     I1    italy                Genoa         Crotone     2   \n",
       "10108  2017-01-22     E0  england              Chelsea            Hull     2   \n",
       "10109  2017-01-22     F1   france            AS Monaco         Lorient     4   \n",
       "10110  2017-01-22    SP1    spain           Real Betis  Sporting Gijon     0   \n",
       "10111  2017-01-22     I1    italy             Atalanta       Sampdoria     1   \n",
       "\n",
       "       ftag  odd_h  odd_d  odd_a  \n",
       "0         1   1.56   4.41   7.42  \n",
       "1         2   2.36   3.60   3.40  \n",
       "2         0   1.83   4.20   4.80  \n",
       "3         1   1.55   4.50   9.40  \n",
       "4         0   2.50   3.40   3.45  \n",
       "...     ...    ...    ...    ...  \n",
       "10107     2   1.97   4.35   8.00  \n",
       "10108     0   1.19   8.50  20.00  \n",
       "10109     0   1.32   6.24  11.50  \n",
       "10110     0   1.74   4.07   5.90  \n",
       "10111     0   1.79   3.96   5.40  \n",
       "\n",
       "[10112 rows x 10 columns]"
      ]
     },
     "execution_count": 136,
     "metadata": {},
     "output_type": "execute_result"
    }
   ],
   "source": [
    "dfa"
   ]
  },
  {
   "cell_type": "code",
   "execution_count": 137,
   "metadata": {},
   "outputs": [],
   "source": [
    "dfa['result'] = dfa.apply(lambda x:1 if x['fthg']>x['ftag'] else (-1 if x['fthg']<x['ftag'] else 0),axis=1)"
   ]
  },
  {
   "cell_type": "code",
   "execution_count": 138,
   "metadata": {},
   "outputs": [
    {
     "data": {
      "text/html": [
       "<div>\n",
       "<style scoped>\n",
       "    .dataframe tbody tr th:only-of-type {\n",
       "        vertical-align: middle;\n",
       "    }\n",
       "\n",
       "    .dataframe tbody tr th {\n",
       "        vertical-align: top;\n",
       "    }\n",
       "\n",
       "    .dataframe thead th {\n",
       "        text-align: right;\n",
       "    }\n",
       "</style>\n",
       "<table border=\"1\" class=\"dataframe\">\n",
       "  <thead>\n",
       "    <tr style=\"text-align: right;\">\n",
       "      <th></th>\n",
       "      <th>date</th>\n",
       "      <th>league</th>\n",
       "      <th>country</th>\n",
       "      <th>ht</th>\n",
       "      <th>at</th>\n",
       "      <th>fthg</th>\n",
       "      <th>ftag</th>\n",
       "      <th>odd_h</th>\n",
       "      <th>odd_d</th>\n",
       "      <th>odd_a</th>\n",
       "      <th>result</th>\n",
       "    </tr>\n",
       "  </thead>\n",
       "  <tbody>\n",
       "    <tr>\n",
       "      <th>0</th>\n",
       "      <td>2011-08-05</td>\n",
       "      <td>D1</td>\n",
       "      <td>germany</td>\n",
       "      <td>Borussia Dortmund</td>\n",
       "      <td>Hamburg SV</td>\n",
       "      <td>3</td>\n",
       "      <td>1</td>\n",
       "      <td>1.56</td>\n",
       "      <td>4.41</td>\n",
       "      <td>7.42</td>\n",
       "      <td>1</td>\n",
       "    </tr>\n",
       "    <tr>\n",
       "      <th>1</th>\n",
       "      <td>2011-08-06</td>\n",
       "      <td>D1</td>\n",
       "      <td>germany</td>\n",
       "      <td>FC Augsburg</td>\n",
       "      <td>SC Freiburg</td>\n",
       "      <td>2</td>\n",
       "      <td>2</td>\n",
       "      <td>2.36</td>\n",
       "      <td>3.60</td>\n",
       "      <td>3.40</td>\n",
       "      <td>0</td>\n",
       "    </tr>\n",
       "    <tr>\n",
       "      <th>2</th>\n",
       "      <td>2011-08-06</td>\n",
       "      <td>D1</td>\n",
       "      <td>germany</td>\n",
       "      <td>Werder Bremen</td>\n",
       "      <td>Kaiserslautern</td>\n",
       "      <td>2</td>\n",
       "      <td>0</td>\n",
       "      <td>1.83</td>\n",
       "      <td>4.20</td>\n",
       "      <td>4.80</td>\n",
       "      <td>1</td>\n",
       "    </tr>\n",
       "    <tr>\n",
       "      <th>3</th>\n",
       "      <td>2011-08-06</td>\n",
       "      <td>F1</td>\n",
       "      <td>france</td>\n",
       "      <td>Paris Saint-Germain</td>\n",
       "      <td>Lorient</td>\n",
       "      <td>0</td>\n",
       "      <td>1</td>\n",
       "      <td>1.55</td>\n",
       "      <td>4.50</td>\n",
       "      <td>9.40</td>\n",
       "      <td>-1</td>\n",
       "    </tr>\n",
       "    <tr>\n",
       "      <th>4</th>\n",
       "      <td>2011-08-06</td>\n",
       "      <td>F1</td>\n",
       "      <td>france</td>\n",
       "      <td>Caen</td>\n",
       "      <td>Valenciennes</td>\n",
       "      <td>1</td>\n",
       "      <td>0</td>\n",
       "      <td>2.50</td>\n",
       "      <td>3.40</td>\n",
       "      <td>3.45</td>\n",
       "      <td>1</td>\n",
       "    </tr>\n",
       "  </tbody>\n",
       "</table>\n",
       "</div>"
      ],
      "text/plain": [
       "         date league  country                   ht              at  fthg  \\\n",
       "0  2011-08-05     D1  germany    Borussia Dortmund      Hamburg SV     3   \n",
       "1  2011-08-06     D1  germany          FC Augsburg     SC Freiburg     2   \n",
       "2  2011-08-06     D1  germany        Werder Bremen  Kaiserslautern     2   \n",
       "3  2011-08-06     F1   france  Paris Saint-Germain         Lorient     0   \n",
       "4  2011-08-06     F1   france                 Caen    Valenciennes     1   \n",
       "\n",
       "   ftag  odd_h  odd_d  odd_a  result  \n",
       "0     1   1.56   4.41   7.42       1  \n",
       "1     2   2.36   3.60   3.40       0  \n",
       "2     0   1.83   4.20   4.80       1  \n",
       "3     1   1.55   4.50   9.40      -1  \n",
       "4     0   2.50   3.40   3.45       1  "
      ]
     },
     "execution_count": 138,
     "metadata": {},
     "output_type": "execute_result"
    }
   ],
   "source": [
    "dfa.head()"
   ]
  },
  {
   "cell_type": "code",
   "execution_count": 139,
   "metadata": {},
   "outputs": [],
   "source": [
    "X=dfa.drop(['result'],axis=1)\n",
    "Y=dfa['result']\n"
   ]
  },
  {
   "cell_type": "code",
   "execution_count": 140,
   "metadata": {},
   "outputs": [
    {
     "name": "stdout",
     "output_type": "stream",
     "text": [
      "Categorial Data ['league', 'country', 'ht', 'at']\n",
      "Numerical Data ['fthg', 'ftag', 'odd_h', 'odd_d', 'odd_a']\n"
     ]
    }
   ],
   "source": [
    "cat_col2=['league','country','ht','at']\n",
    "num_col2=['fthg','ftag','odd_h','odd_d','odd_a']\n",
    "print('Categorial Data',cat_col2)\n",
    "print('Numerical Data',num_col2)"
   ]
  },
  {
   "cell_type": "code",
   "execution_count": 141,
   "metadata": {},
   "outputs": [],
   "source": [
    "X_cat=OneHotEncoder().fit_transform(X[cat_col2])\n",
    "X_num=StandardScaler().fit_transform(X[num_col2])\n",
    "X_final=np.hstack((X_num,X_cat.toarray()))\n",
    "\n"
   ]
  },
  {
   "cell_type": "code",
   "execution_count": 142,
   "metadata": {},
   "outputs": [],
   "source": [
    "X_train,X_test,Y_train,Y_test=train_test_split(X_final,Y,test_size=0.2,random_state=1)"
   ]
  },
  {
   "cell_type": "code",
   "execution_count": 143,
   "metadata": {},
   "outputs": [],
   "source": [
    "from sklearn.metrics import accuracy_score\n",
    "from sklearn.metrics import precision_score\n",
    "from sklearn.metrics import recall_score\n",
    "from sklearn.metrics import f1_score\n"
   ]
  },
  {
   "cell_type": "markdown",
   "metadata": {},
   "source": [
    "## Logistic Regression"
   ]
  },
  {
   "cell_type": "code",
   "execution_count": 144,
   "metadata": {},
   "outputs": [],
   "source": [
    "from sklearn.linear_model import LogisticRegression\n",
    "LR=LogisticRegression().fit(X_train,Y_train)\n",
    "\n"
   ]
  },
  {
   "cell_type": "code",
   "execution_count": 145,
   "metadata": {},
   "outputs": [],
   "source": [
    "\n",
    "Y_predLR=LR.predict(X_test)"
   ]
  },
  {
   "cell_type": "code",
   "execution_count": 169,
   "metadata": {},
   "outputs": [
    {
     "name": "stdout",
     "output_type": "stream",
     "text": [
      " Accuracy Score: 1.0 \n",
      " Precision Score : 1.0 \n",
      " Recall Score: 1.0 \n",
      " F1 Score:  1.0\n"
     ]
    }
   ],
   "source": [
    "accuracy=accuracy_score(Y_test,Y_predLR)\n",
    "precision=precision_score(Y_test,Y_predLR,average='weighted')\n",
    "recall=recall_score(Y_test,Y_predLR,average='weighted')\n",
    "f1=f1_score(Y_test,Y_predLR,average='weighted')\n",
    "print(\" Accuracy Score:\",accuracy,\"\\n Precision Score :\",precision,\"\\n Recall Score:\",recall,\"\\n F1 Score: \",f1)"
   ]
  },
  {
   "cell_type": "markdown",
   "metadata": {},
   "source": [
    "## Decision Tree"
   ]
  },
  {
   "cell_type": "code",
   "execution_count": 147,
   "metadata": {},
   "outputs": [],
   "source": [
    "from sklearn.tree import DecisionTreeClassifier\n",
    "DT=DecisionTreeClassifier().fit(X_train,Y_train)"
   ]
  },
  {
   "cell_type": "code",
   "execution_count": 148,
   "metadata": {},
   "outputs": [],
   "source": [
    "Y_predDT=DT.predict(X_test)"
   ]
  },
  {
   "cell_type": "code",
   "execution_count": 168,
   "metadata": {},
   "outputs": [
    {
     "name": "stdout",
     "output_type": "stream",
     "text": [
      " Accuracy Score: 1.0 \n",
      " Precision Score : 1.0 \n",
      " Recall Score: 1.0 \n",
      " F1 Score:  1.0\n"
     ]
    }
   ],
   "source": [
    "accuracy=accuracy_score(Y_test,Y_predDT)\n",
    "precision=precision_score(Y_test,Y_predDT,average='weighted')\n",
    "recall=recall_score(Y_test,Y_predDT,average='weighted')\n",
    "f1=f1_score(Y_test,Y_predDT,average='weighted')\n",
    "print(\" Accuracy Score:\",accuracy,\"\\n Precision Score :\",precision,\"\\n Recall Score:\",recall,\"\\n F1 Score: \",f1)"
   ]
  },
  {
   "cell_type": "markdown",
   "metadata": {},
   "source": [
    "## Random Forest"
   ]
  },
  {
   "cell_type": "code",
   "execution_count": 150,
   "metadata": {},
   "outputs": [],
   "source": [
    "from sklearn.ensemble import RandomForestClassifier\n",
    "RFC=RandomForestClassifier().fit(X_train,Y_train)"
   ]
  },
  {
   "cell_type": "code",
   "execution_count": 151,
   "metadata": {},
   "outputs": [],
   "source": [
    "Y_predRFC=RFC.predict(X_test)"
   ]
  },
  {
   "cell_type": "code",
   "execution_count": 166,
   "metadata": {},
   "outputs": [
    {
     "name": "stdout",
     "output_type": "stream",
     "text": [
      " Accuracy Score: 0.9851705388037568 \n",
      " Precision Score : 0.9851909050491612 \n",
      " Recall Score: 0.9851705388037568 \n",
      " F1 Score:  0.9851792560613624\n"
     ]
    }
   ],
   "source": [
    "accuracy=accuracy_score(Y_test,Y_predRFC)\n",
    "precision=precision_score(Y_test,Y_predRFC,average='weighted')\n",
    "recall=recall_score(Y_test,Y_predRFC,average='weighted')\n",
    "f1=f1_score(Y_test,Y_predRFC,average='weighted')\n",
    "print(\" Accuracy Score:\",accuracy,\"\\n Precision Score :\",precision,\"\\n Recall Score:\",recall,\"\\n F1 Score: \",f1)"
   ]
  },
  {
   "cell_type": "markdown",
   "metadata": {},
   "source": [
    "## Gradient Boosting"
   ]
  },
  {
   "cell_type": "code",
   "execution_count": 153,
   "metadata": {},
   "outputs": [],
   "source": [
    "from sklearn.ensemble import GradientBoostingClassifier\n",
    "GBC=GradientBoostingClassifier().fit(X_train,Y_train)"
   ]
  },
  {
   "cell_type": "code",
   "execution_count": 154,
   "metadata": {},
   "outputs": [],
   "source": [
    "Y_predGBC=GBC.predict(X_test)"
   ]
  },
  {
   "cell_type": "code",
   "execution_count": 162,
   "metadata": {},
   "outputs": [
    {
     "name": "stdout",
     "output_type": "stream",
     "text": [
      " Accuracy Score: 1.0 \n",
      " Precision Score : 1.0 \n",
      " Recall Score: 1.0 \n",
      " F1 Score:  1.0\n"
     ]
    }
   ],
   "source": [
    "accuracy=accuracy_score(Y_test,Y_predGBC)\n",
    "precision=precision_score(Y_test,Y_predGBC,average='weighted')\n",
    "recall=recall_score(Y_test,Y_predGBC,average='weighted')\n",
    "f1=f1_score(Y_test,Y_predGBC,average='weighted')\n",
    "print(\" Accuracy Score:\",accuracy,\"\\n Precision Score :\",precision,\"\\n Recall Score:\",recall,\"\\n F1 Score: \",f1)"
   ]
  },
  {
   "cell_type": "markdown",
   "metadata": {},
   "source": [
    "## Support Vector Machine"
   ]
  },
  {
   "cell_type": "code",
   "execution_count": 156,
   "metadata": {},
   "outputs": [],
   "source": [
    "from sklearn import svm\n",
    "svmm=svm.SVC()\n",
    "SVM=svmm.fit(X_train,Y_train)\n"
   ]
  },
  {
   "cell_type": "code",
   "execution_count": 157,
   "metadata": {},
   "outputs": [],
   "source": [
    "Y_predSVM=SVM.predict(X_test)"
   ]
  },
  {
   "cell_type": "code",
   "execution_count": 163,
   "metadata": {},
   "outputs": [
    {
     "name": "stdout",
     "output_type": "stream",
     "text": [
      " Accuracy Score: 0.9960454770143351 \n",
      " Precision Score : 0.996051050364549 \n",
      " Recall Score: 0.9960454770143351 \n",
      " F1 Score:  0.9960467736673482\n"
     ]
    }
   ],
   "source": [
    "accuracy=accuracy_score(Y_test,Y_predSVM)\n",
    "precision=precision_score(Y_test,Y_predSVM,average='weighted')\n",
    "recall=recall_score(Y_test,Y_predSVM,average='weighted')\n",
    "f1=f1_score(Y_test,Y_predSVM,average='weighted')\n",
    "print(\" Accuracy Score:\",accuracy,\"\\n Precision Score :\",precision,\"\\n Recall Score:\",recall,\"\\n F1 Score: \",f1)"
   ]
  },
  {
   "cell_type": "markdown",
   "metadata": {},
   "source": [
    "## KNN\n"
   ]
  },
  {
   "cell_type": "code",
   "execution_count": 159,
   "metadata": {},
   "outputs": [],
   "source": [
    "from sklearn.neighbors import KNeighborsClassifier\n",
    "KNN=KNeighborsClassifier().fit(X_train,Y_train)"
   ]
  },
  {
   "cell_type": "code",
   "execution_count": 160,
   "metadata": {},
   "outputs": [],
   "source": [
    "Y_predKNN=KNN.predict(X_test)"
   ]
  },
  {
   "cell_type": "code",
   "execution_count": 164,
   "metadata": {},
   "outputs": [
    {
     "name": "stdout",
     "output_type": "stream",
     "text": [
      " Accuracy Score: 0.9223924864063272 \n",
      " Precision Score : 0.9231647723474724 \n",
      " Recall Score: 0.9223924864063272 \n",
      " F1 Score:  0.9226099814752358\n"
     ]
    }
   ],
   "source": [
    "accuracy=accuracy_score(Y_test,Y_predKNN)\n",
    "precision=precision_score(Y_test,Y_predKNN,average='weighted')\n",
    "recall=recall_score(Y_test,Y_predKNN,average='weighted')\n",
    "f1=f1_score(Y_test,Y_predKNN,average='weighted')\n",
    "print(\" Accuracy Score:\",accuracy,\"\\n Precision Score :\",precision,\"\\n Recall Score:\",recall,\"\\n F1 Score: \",f1)"
   ]
  },
  {
   "cell_type": "code",
   "execution_count": null,
   "metadata": {},
   "outputs": [],
   "source": []
  }
 ],
 "metadata": {
  "kernelspec": {
   "display_name": "Python 3",
   "language": "python",
   "name": "python3"
  },
  "language_info": {
   "codemirror_mode": {
    "name": "ipython",
    "version": 3
   },
   "file_extension": ".py",
   "mimetype": "text/x-python",
   "name": "python",
   "nbconvert_exporter": "python",
   "pygments_lexer": "ipython3",
   "version": "3.11.4"
  }
 },
 "nbformat": 4,
 "nbformat_minor": 2
}
